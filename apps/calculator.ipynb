{
 "cells": [
  {
   "cell_type": "code",
   "execution_count": 1,
   "id": "996dd35979280bcc",
   "metadata": {
    "ExecuteTime": {
     "end_time": "2025-06-23T16:34:53.157687Z",
     "start_time": "2025-06-23T16:34:52.685956Z"
    }
   },
   "outputs": [],
   "source": [
    "import os\n",
    "from langchain.chat_models import init_chat_model\n",
    "from dotenv import load_dotenv\n",
    "from typing import Annotated\n",
    "from typing import Literal\n",
    "from pydantic import Field\n",
    "import math\n",
    "from langchain_core.runnables import RunnableConfig\n",
    "from langchain_core.tools import BaseTool, BaseToolkit, tool\n",
    "from langgraph.prebuilt import tools_condition, ToolNode\n",
    "from pydantic import BaseModel\n",
    "from typing_extensions import TypedDict\n",
    "from langgraph.graph import StateGraph, START, END\n",
    "from IPython.display import Image, display\n",
    "from langgraph.graph.message import MessagesState, add_messages\n",
    "from langchain_core.messages import HumanMessage, SystemMessage\n",
    "\n",
    "load_dotenv()\n",
    "\n",
    "os.environ[\"LANGSMITH_PROJECT\"] = \"calculator\"\n",
    "\n",
    "mermaid_url = 'http://localhost:3000'"
   ]
  },
  {
   "cell_type": "markdown",
   "id": "eae05109",
   "metadata": {},
   "source": [
    "## Hloupá kalkulačka"
   ]
  },
  {
   "cell_type": "markdown",
   "id": "26936811",
   "metadata": {},
   "source": [
    "### 1. Definice stavu agenta"
   ]
  },
  {
   "cell_type": "code",
   "execution_count": 2,
   "id": "37eec6b8",
   "metadata": {},
   "outputs": [],
   "source": [
    "class AgentState(TypedDict):\n",
    "    messages: Annotated[list, add_messages]"
   ]
  },
  {
   "cell_type": "markdown",
   "id": "3acc92ec",
   "metadata": {},
   "source": [
    "### 2. Definice vrcholů, hran a grafu"
   ]
  },
  {
   "cell_type": "code",
   "execution_count": 3,
   "id": "a151fdb4",
   "metadata": {},
   "outputs": [],
   "source": [
    "llm = init_chat_model(\"google_genai:gemini-2.0-flash\")\n",
    "\n",
    "\n",
    "def invoke_llm_node(state: AgentState):\n",
    "    ai_message = llm.invoke(state[\"messages\"])\n",
    "\n",
    "    return {\"messages\": [ai_message]}\n"
   ]
  },
  {
   "cell_type": "code",
   "execution_count": 4,
   "id": "9265f88e",
   "metadata": {},
   "outputs": [
    {
     "data": {
      "image/png": "[encoded data removed]",
      "text/plain": [
       "<IPython.core.display.Image object>"
      ]
     },
     "execution_count": 4,
     "metadata": {},
     "output_type": "execute_result"
    }
   ],
   "source": [
    "graph_builder = (\n",
    "    StateGraph(AgentState)\n",
    "    # nodes\n",
    "    .add_node(\"LLM\", invoke_llm_node)\n",
    "    # edges\n",
    "    .add_edge(START, \"LLM\")\n",
    "    .add_edge(\"LLM\", END)\n",
    ")\n",
    "\n",
    "# kompilace grafu\n",
    "graph = graph_builder.compile()\n",
    "\n",
    "# vizualizace\n",
    "Image(graph.get_graph().draw_mermaid_png())"
   ]
  },
  {
   "cell_type": "markdown",
   "id": "5b111747",
   "metadata": {},
   "source": [
    "### 3. Invoke\n",
    "- (drobná) nepřesnost výsledku"
   ]
  },
  {
   "cell_type": "code",
   "execution_count": null,
   "id": "b0a228b5",
   "metadata": {},
   "outputs": [
    {
     "name": "stdout",
     "output_type": "stream",
     "text": [
      "================================\u001b[1m System Message \u001b[0m================================\n",
      "\n",
      "You are a math calculator assistant that helps calculating given equations and expressions. Before calculating, think about the correct order of operations (PEMDAS/BODMAS) and make use of interim results.\n",
      "================================\u001b[1m Human Message \u001b[0m=================================\n",
      "\n",
      "What is (40+3.69)/0.7584*sqrt(99/4.98)?\n",
      "==================================\u001b[1m Ai Message \u001b[0m==================================\n",
      "\n",
      "Here's how to calculate the expression step-by-step, following the order of operations (PEMDAS/BODMAS):\n",
      "\n",
      "1.  **Parentheses/Brackets:**\n",
      "    *   40 + 3.69 = 43.69\n",
      "\n",
      "2.  **Parentheses/Brackets (inside sqrt):**\n",
      "    *   99 / 4.98 = 19.8795\n",
      "\n",
      "3.  **Square Root:**\n",
      "    *   sqrt(19.8795) = 4.4586\n",
      "\n",
      "4.  **Division:**\n",
      "    *   43.69 / 0.7584 = 57.6079\n",
      "\n",
      "5.  **Multiplication:**\n",
      "    *   57.6079 * 4.4586 = 256.8715\n",
      "\n",
      "Therefore, (40+3.69)/0.7584*sqrt(99/4.98) =  **256.8715**\n"
     ]
    }
   ],
   "source": [
    "response = graph.invoke(\n",
    "    {\"messages\": [\n",
    "        SystemMessage(\"You are a math calculator assistant that helps calculating given equations and expressions. Before calculating, think about the correct order of operations (PEMDAS/BODMAS) and make use of interim results.\"),\n",
    "        HumanMessage(\"What is (40+3.69)/0.7584*sqrt(99/4.98)?\")\n",
    "    ]}\n",
    ")\n",
    "\n",
    "for message in response[\"messages\"]:\n",
    "    message.pretty_print()\n",
    "\n",
    "# print(f\"Final result: {response['result']}\")\n",
    "# 256,8541851"
   ]
  },
  {
   "cell_type": "markdown",
   "id": "76b71aae",
   "metadata": {},
   "source": [
    "## Zchytření kalkulačky o tooly"
   ]
  },
  {
   "cell_type": "markdown",
   "id": "ec40475f",
   "metadata": {},
   "source": [
    "### 2. Definice toolů, vrcholů, hran a grafu"
   ]
  },
  {
   "cell_type": "code",
   "execution_count": 6,
   "id": "d73e2cfcd39fd3e4",
   "metadata": {
    "ExecuteTime": {
     "end_time": "2025-06-23T16:34:53.758583Z",
     "start_time": "2025-06-23T16:34:53.743579Z"
    }
   },
   "outputs": [],
   "source": [
    "llm = init_chat_model(\"google_genai:gemini-2.0-flash\")\n",
    "\n",
    "\n",
    "class CalculatorToolkit:\n",
    "    def get_tools(self):\n",
    "        return [self.multiply, self.divide, self.add, self.subtract, self.power, self.sqrt]\n",
    "\n",
    "    @staticmethod\n",
    "    @tool\n",
    "    def multiply(a: float, b: float) -> float:\n",
    "        \"\"\"Multiply two numbers.\"\"\"\n",
    "        return a * b\n",
    "\n",
    "    @staticmethod\n",
    "    @tool\n",
    "    def divide(a: float, b: float) -> float:\n",
    "        \"\"\"Divide number `a` by `b`.\"\"\"\n",
    "        return a / b\n",
    "\n",
    "    @staticmethod\n",
    "    @tool\n",
    "    def add(a: float, b: float) -> float:\n",
    "        \"\"\"Add numbers `a` and `b` together.\"\"\"\n",
    "        return a + b\n",
    "\n",
    "    @staticmethod\n",
    "    @tool\n",
    "    def subtract(a: float, b: float) -> float:\n",
    "        \"\"\"Subtract number `b` from `a`.\"\"\"\n",
    "        return a - b\n",
    "\n",
    "    @staticmethod\n",
    "    @tool\n",
    "    def power(a: float, b: float) -> float:\n",
    "        \"\"\"Raise number `a` to the power of `b`.\"\"\"\n",
    "        return a**b\n",
    "\n",
    "    @staticmethod\n",
    "    @tool\n",
    "    def sqrt(a: float) -> float:\n",
    "        \"\"\"Calculate the square root of the number `a`.\"\"\"\n",
    "        return math.sqrt(a)\n",
    "\n",
    "\n",
    "calculator_toolkit = CalculatorToolkit()\n",
    "\n",
    "\n",
    "def invoke_llm_node(state: AgentState):\n",
    "    llm_with_tools = llm.bind_tools(calculator_toolkit.get_tools())\n",
    "    ai_message = llm_with_tools.invoke(state[\"messages\"])\n",
    "\n",
    "    return {\"messages\": [ai_message]}\n"
   ]
  },
  {
   "cell_type": "code",
   "execution_count": 7,
   "id": "65832cb448a88bf3",
   "metadata": {
    "ExecuteTime": {
     "end_time": "2025-06-23T16:35:13.912151Z",
     "start_time": "2025-06-23T16:35:13.885539Z"
    }
   },
   "outputs": [
    {
     "data": {
      "image/png": "[encoded data removed]",
      "text/plain": [
       "<IPython.core.display.Image object>"
      ]
     },
     "execution_count": 7,
     "metadata": {},
     "output_type": "execute_result"
    }
   ],
   "source": [
    "graph_builder = (\n",
    "    StateGraph(AgentState)\n",
    "    # nodes\n",
    "    .add_node(\"LLM\", invoke_llm_node)\n",
    "    .add_node(\"calculator\", ToolNode(calculator_toolkit.get_tools()))\n",
    "    # edges\n",
    "    .add_edge(START, \"LLM\")\n",
    "    .add_conditional_edges(\n",
    "        \"LLM\", tools_condition,\n",
    "        {\"tools\": \"calculator\", END: END}\n",
    "    )\n",
    "    .add_edge(\"calculator\", \"LLM\")\n",
    "    .add_edge(\"LLM\", END)\n",
    ")\n",
    "\n",
    "# kompilace grafu\n",
    "graph = graph_builder.compile()\n",
    "\n",
    "# vizualizace\n",
    "Image(graph.get_graph().draw_mermaid_png(base_url=mermaid_url))"
   ]
  },
  {
   "cell_type": "markdown",
   "id": "a8045607de152d29",
   "metadata": {},
   "source": [
    "### 3. Invoke"
   ]
  },
  {
   "cell_type": "code",
   "execution_count": null,
   "id": "fbc121e30a2defb3",
   "metadata": {
    "ExecuteTime": {
     "end_time": "2025-06-23T16:35:50.575936Z",
     "start_time": "2025-06-23T16:35:38.115132Z"
    }
   },
   "outputs": [
    {
     "name": "stdout",
     "output_type": "stream",
     "text": [
      "================================\u001b[1m System Message \u001b[0m================================\n",
      "\n",
      "You are a math calculator assistant that helps calculating given equations and expressions. Before calculating, think about the correct order of operations (PEMDAS/BODMAS) and make use of interim results.\n",
      "================================\u001b[1m Human Message \u001b[0m=================================\n",
      "\n",
      "What is (40+3.69)/0.7584*sqrt(99/4.98)?\n",
      "==================================\u001b[1m Ai Message \u001b[0m==================================\n",
      "Tool Calls:\n",
      "  add (44f3d15e-a88e-4b9f-b448-6c50c2f4fc14)\n",
      " Call ID: 44f3d15e-a88e-4b9f-b448-6c50c2f4fc14\n",
      "  Args:\n",
      "    b: 3.69\n",
      "    a: 40.0\n",
      "=================================\u001b[1m Tool Message \u001b[0m=================================\n",
      "Name: add\n",
      "\n",
      "43.69\n",
      "==================================\u001b[1m Ai Message \u001b[0m==================================\n",
      "Tool Calls:\n",
      "  divide (aa81a4f3-825e-4eb6-8dbf-7fde4316ff27)\n",
      " Call ID: aa81a4f3-825e-4eb6-8dbf-7fde4316ff27\n",
      "  Args:\n",
      "    b: 0.7584\n",
      "    a: 43.69\n",
      "=================================\u001b[1m Tool Message \u001b[0m=================================\n",
      "Name: divide\n",
      "\n",
      "57.608122362869196\n",
      "==================================\u001b[1m Ai Message \u001b[0m==================================\n",
      "Tool Calls:\n",
      "  divide (febd79be-b52c-4f99-abb8-4b46718c1d82)\n",
      " Call ID: febd79be-b52c-4f99-abb8-4b46718c1d82\n",
      "  Args:\n",
      "    b: 4.98\n",
      "    a: 99.0\n",
      "=================================\u001b[1m Tool Message \u001b[0m=================================\n",
      "Name: divide\n",
      "\n",
      "19.879518072289155\n",
      "==================================\u001b[1m Ai Message \u001b[0m==================================\n",
      "Tool Calls:\n",
      "  sqrt (a7f76c30-d050-4781-9c27-dbd952455f07)\n",
      " Call ID: a7f76c30-d050-4781-9c27-dbd952455f07\n",
      "  Args:\n",
      "    a: 19.879518072289155\n",
      "=================================\u001b[1m Tool Message \u001b[0m=================================\n",
      "Name: sqrt\n",
      "\n",
      "4.4586453180634535\n",
      "==================================\u001b[1m Ai Message \u001b[0m==================================\n",
      "Tool Calls:\n",
      "  multiply (aa55f9bb-517b-41cf-a8f9-bddd8e13b35b)\n",
      " Call ID: aa55f9bb-517b-41cf-a8f9-bddd8e13b35b\n",
      "  Args:\n",
      "    b: 4.4586453180634535\n",
      "    a: 57.608122362869196\n",
      "=================================\u001b[1m Tool Message \u001b[0m=================================\n",
      "Name: multiply\n",
      "\n",
      "256.85418505563325\n",
      "==================================\u001b[1m Ai Message \u001b[0m==================================\n",
      "\n",
      "(40+3.69)/0.7584*sqrt(99/4.98) = 256.85418505563325\n"
     ]
    }
   ],
   "source": [
    "from langchain_core.messages import HumanMessage, SystemMessage\n",
    "\n",
    "response = graph.invoke(\n",
    "    {\"messages\": [\n",
    "        SystemMessage(\"You are a math calculator assistant that helps calculating given equations and expressions. Before calculating, think about the correct order of operations (PEMDAS/BODMAS) and make use of interim results.\"),\n",
    "        HumanMessage(\"What is (40+3.69)/0.7584*sqrt(99/4.98)?\")\n",
    "    ]},\n",
    ")\n",
    "\n",
    "for message in response[\"messages\"]:\n",
    "    message.pretty_print()"
   ]
  },
  {
   "cell_type": "markdown",
   "id": "df41637e",
   "metadata": {},
   "source": [
    "## Strukturované parsování výsledku"
   ]
  },
  {
   "cell_type": "markdown",
   "id": "c35f46e7",
   "metadata": {},
   "source": [
    "### 2. Definice vrcholů, hran a grafu"
   ]
  },
  {
   "cell_type": "code",
   "execution_count": 9,
   "id": "6221552c",
   "metadata": {},
   "outputs": [],
   "source": [
    "class StructuredStep(BaseModel):\n",
    "    a: float\n",
    "    b: float | None = None\n",
    "    operation: Literal[\"/\", \"*\", \"+\", \"-\", \"^\", \"sqrt\"] = Field(\n",
    "        description=\"The operation that was performed in this step (as a symbol).\"\n",
    "    )\n",
    "    result: float = Field(description=\"The result of that operation.\")\n",
    "\n",
    "\n",
    "class StructuredResult(BaseModel):\n",
    "    steps: list[StructuredStep] = Field(\n",
    "        default_factory=list,\n",
    "        description=\"A list of all the steps that were performed to calculate the final result.\",\n",
    "    )\n",
    "    result: float = Field(description=\"The final result of the calculation.\")\n",
    "\n",
    "\n",
    "class AgentState(TypedDict):\n",
    "    messages: Annotated[list, add_messages]\n",
    "    result: StructuredResult | None = None\n",
    "\n",
    "\n",
    "def parse_results_node(state: AgentState):\n",
    "    state[\"messages\"].append(\n",
    "        HumanMessage(\n",
    "            \"Based on the previous thought process of a calculator agent, extract the intermediate steps and the final result.\"\n",
    "        )\n",
    "    )\n",
    "    llm_with_structured_output = llm.with_structured_output(StructuredResult)\n",
    "    result = llm_with_structured_output.invoke(state[\"messages\"])\n",
    "\n",
    "    return {\n",
    "        **state,\n",
    "        \"result\": result,\n",
    "    }\n"
   ]
  },
  {
   "cell_type": "code",
   "execution_count": 10,
   "id": "0bc998f9",
   "metadata": {},
   "outputs": [
    {
     "data": {
      "image/png": "[encoded data removed]",
      "text/plain": [
       "<IPython.core.display.Image object>"
      ]
     },
     "execution_count": 10,
     "metadata": {},
     "output_type": "execute_result"
    }
   ],
   "source": [
    "graph_builder = (\n",
    "    StateGraph(AgentState)\n",
    "    # nodes\n",
    "    .add_node(\"LLM\", invoke_llm_node)\n",
    "    .add_node(\"calculator\", ToolNode(calculator_toolkit.get_tools()))\n",
    "    .add_node(\"parser\", parse_results_node)\n",
    "    # edges\n",
    "    .add_edge(START, \"LLM\")\n",
    "    .add_conditional_edges(\n",
    "        \"LLM\", tools_condition,\n",
    "        {\"tools\": \"calculator\", END: \"parser\"}\n",
    "    )\n",
    "    .add_edge(\"calculator\", \"LLM\")\n",
    "    .add_edge(\"parser\", END)\n",
    ")\n",
    "\n",
    "# kompilace grafu\n",
    "graph = graph_builder.compile()\n",
    "\n",
    "# vizualizace\n",
    "Image(graph.get_graph().draw_mermaid_png(base_url=mermaid_url))"
   ]
  },
  {
   "cell_type": "markdown",
   "id": "c9da52a7",
   "metadata": {},
   "source": [
    "### 3. Invoke"
   ]
  },
  {
   "cell_type": "code",
   "execution_count": 11,
   "id": "e31ba392",
   "metadata": {},
   "outputs": [
    {
     "name": "stdout",
     "output_type": "stream",
     "text": [
      "================================\u001b[1m System Message \u001b[0m================================\n",
      "\n",
      "You are a math calculator assistant that helps calculating given equations and expressions. Before calculating, think about the correct order of operations (PEMDAS/BODMAS) and make use of interim results.\n",
      "================================\u001b[1m Human Message \u001b[0m=================================\n",
      "\n",
      "What is (40+3.69)/0.7584*sqrt(99/4.98)?\n",
      "==================================\u001b[1m Ai Message \u001b[0m==================================\n",
      "Tool Calls:\n",
      "  add (dabdb5fa-573c-4d19-81c7-53d4811624be)\n",
      " Call ID: dabdb5fa-573c-4d19-81c7-53d4811624be\n",
      "  Args:\n",
      "    b: 3.69\n",
      "    a: 40.0\n",
      "=================================\u001b[1m Tool Message \u001b[0m=================================\n",
      "Name: add\n",
      "\n",
      "43.69\n",
      "==================================\u001b[1m Ai Message \u001b[0m==================================\n",
      "Tool Calls:\n",
      "  divide (41ee1b98-cc5a-4200-9aa7-c5d76355ee40)\n",
      " Call ID: 41ee1b98-cc5a-4200-9aa7-c5d76355ee40\n",
      "  Args:\n",
      "    b: 4.98\n",
      "    a: 99.0\n",
      "=================================\u001b[1m Tool Message \u001b[0m=================================\n",
      "Name: divide\n",
      "\n",
      "19.879518072289155\n",
      "==================================\u001b[1m Ai Message \u001b[0m==================================\n",
      "Tool Calls:\n",
      "  sqrt (dac8c27d-64f6-4e6b-bc69-85ac741a3f7c)\n",
      " Call ID: dac8c27d-64f6-4e6b-bc69-85ac741a3f7c\n",
      "  Args:\n",
      "    a: 19.879518072289155\n",
      "=================================\u001b[1m Tool Message \u001b[0m=================================\n",
      "Name: sqrt\n",
      "\n",
      "4.4586453180634535\n",
      "==================================\u001b[1m Ai Message \u001b[0m==================================\n",
      "Tool Calls:\n",
      "  divide (04b0970d-0d45-4415-940e-84e76e90c3fe)\n",
      " Call ID: 04b0970d-0d45-4415-940e-84e76e90c3fe\n",
      "  Args:\n",
      "    b: 0.7584\n",
      "    a: 43.69\n",
      "=================================\u001b[1m Tool Message \u001b[0m=================================\n",
      "Name: divide\n",
      "\n",
      "57.608122362869196\n",
      "==================================\u001b[1m Ai Message \u001b[0m==================================\n",
      "Tool Calls:\n",
      "  multiply (6085f69b-780a-4ad6-9366-648cc3753d1d)\n",
      " Call ID: 6085f69b-780a-4ad6-9366-648cc3753d1d\n",
      "  Args:\n",
      "    b: 4.4586453180634535\n",
      "    a: 57.608122362869196\n",
      "=================================\u001b[1m Tool Message \u001b[0m=================================\n",
      "Name: multiply\n",
      "\n",
      "256.85418505563325\n",
      "==================================\u001b[1m Ai Message \u001b[0m==================================\n",
      "\n",
      "(40+3.69)/0.7584*sqrt(99/4.98) = 256.85418505563325\n",
      "================================\u001b[1m Human Message \u001b[0m=================================\n",
      "\n",
      "Based on the previous thought process of a calculator agent, extract the intermediate steps and the final result.\n"
     ]
    }
   ],
   "source": [
    "from langchain_core.messages import HumanMessage, SystemMessage\n",
    "\n",
    "response = graph.invoke(\n",
    "    {\"messages\": [\n",
    "        SystemMessage(\"You are a math calculator assistant that helps calculating given equations and expressions. Before calculating, think about the correct order of operations (PEMDAS/BODMAS) and make use of interim results.\"),\n",
    "        HumanMessage(\"What is (40+3.69)/0.7584*sqrt(99/4.98)?\")\n",
    "    ]},\n",
    ")\n",
    "for message in response[\"messages\"]:\n",
    "    message.pretty_print()"
   ]
  },
  {
   "cell_type": "code",
   "execution_count": 12,
   "id": "6e4217ad",
   "metadata": {},
   "outputs": [
    {
     "data": {
      "text/plain": [
       "{'messages': [SystemMessage(content='You are a math calculator assistant that helps calculating given equations and expressions. Before calculating, think about the correct order of operations (PEMDAS/BODMAS) and make use of interim results.', additional_kwargs={}, response_metadata={}, id='3862fc80-5876-467c-a6d0-62efaa565a29'),\n",
       "  HumanMessage(content='What is (40+3.69)/0.7584*sqrt(99/4.98)?', additional_kwargs={}, response_metadata={}, id='63055485-49d3-4629-aeca-5f9c787f034c'),\n",
       "  AIMessage(content='', additional_kwargs={'function_call': {'name': 'add', 'arguments': '{\"b\": 3.69, \"a\": 40.0}'}}, response_metadata={'prompt_feedback': {'block_reason': 0, 'safety_ratings': []}, 'finish_reason': 'STOP', 'model_name': 'gemini-2.0-flash', 'safety_ratings': []}, id='run--bb7b1fb3-beca-4509-b939-9fc48fce5bb5-0', tool_calls=[{'name': 'add', 'args': {'b': 3.69, 'a': 40.0}, 'id': 'dabdb5fa-573c-4d19-81c7-53d4811624be', 'type': 'tool_call'}], usage_metadata={'input_tokens': 166, 'output_tokens': 5, 'total_tokens': 171, 'input_token_details': {'cache_read': 0}}),\n",
       "  ToolMessage(content='43.69', name='add', id='f0e657f0-0329-437a-9e68-31d26e956e15', tool_call_id='dabdb5fa-573c-4d19-81c7-53d4811624be'),\n",
       "  AIMessage(content='', additional_kwargs={'function_call': {'name': 'divide', 'arguments': '{\"b\": 4.98, \"a\": 99.0}'}}, response_metadata={'prompt_feedback': {'block_reason': 0, 'safety_ratings': []}, 'finish_reason': 'STOP', 'model_name': 'gemini-2.0-flash', 'safety_ratings': []}, id='run--1e5f6b39-2712-479d-91b7-09e51eafc093-0', tool_calls=[{'name': 'divide', 'args': {'b': 4.98, 'a': 99.0}, 'id': '41ee1b98-cc5a-4200-9aa7-c5d76355ee40', 'type': 'tool_call'}], usage_metadata={'input_tokens': 174, 'output_tokens': 5, 'total_tokens': 179, 'input_token_details': {'cache_read': 0}}),\n",
       "  ToolMessage(content='19.879518072289155', name='divide', id='cf999604-f9c4-48b2-8499-7c8b27a8c978', tool_call_id='41ee1b98-cc5a-4200-9aa7-c5d76355ee40'),\n",
       "  AIMessage(content='', additional_kwargs={'function_call': {'name': 'sqrt', 'arguments': '{\"a\": 19.879518072289155}'}}, response_metadata={'prompt_feedback': {'block_reason': 0, 'safety_ratings': []}, 'finish_reason': 'STOP', 'model_name': 'gemini-2.0-flash', 'safety_ratings': []}, id='run--9087bde1-0796-419b-a366-5d5c27e74e74-0', tool_calls=[{'name': 'sqrt', 'args': {'a': 19.879518072289155}, 'id': 'dac8c27d-64f6-4e6b-bc69-85ac741a3f7c', 'type': 'tool_call'}], usage_metadata={'input_tokens': 182, 'output_tokens': 3, 'total_tokens': 185, 'input_token_details': {'cache_read': 0}}),\n",
       "  ToolMessage(content='4.4586453180634535', name='sqrt', id='3806162a-dcdf-4c7c-8b44-cc1ac183f970', tool_call_id='dac8c27d-64f6-4e6b-bc69-85ac741a3f7c'),\n",
       "  AIMessage(content='', additional_kwargs={'function_call': {'name': 'divide', 'arguments': '{\"b\": 0.7584, \"a\": 43.69}'}}, response_metadata={'prompt_feedback': {'block_reason': 0, 'safety_ratings': []}, 'finish_reason': 'STOP', 'model_name': 'gemini-2.0-flash', 'safety_ratings': []}, id='run--d188c317-120c-4358-bebc-e864f0466a9a-0', tool_calls=[{'name': 'divide', 'args': {'b': 0.7584, 'a': 43.69}, 'id': '04b0970d-0d45-4415-940e-84e76e90c3fe', 'type': 'tool_call'}], usage_metadata={'input_tokens': 188, 'output_tokens': 5, 'total_tokens': 193, 'input_token_details': {'cache_read': 0}}),\n",
       "  ToolMessage(content='57.608122362869196', name='divide', id='58e54fa5-618c-4cda-ab48-d679f2fa3526', tool_call_id='04b0970d-0d45-4415-940e-84e76e90c3fe'),\n",
       "  AIMessage(content='', additional_kwargs={'function_call': {'name': 'multiply', 'arguments': '{\"b\": 4.4586453180634535, \"a\": 57.608122362869196}'}}, response_metadata={'prompt_feedback': {'block_reason': 0, 'safety_ratings': []}, 'finish_reason': 'STOP', 'model_name': 'gemini-2.0-flash', 'safety_ratings': []}, id='run--4cdfddce-5165-42f8-85a1-e65eb975fa27-0', tool_calls=[{'name': 'multiply', 'args': {'b': 4.4586453180634535, 'a': 57.608122362869196}, 'id': '6085f69b-780a-4ad6-9366-648cc3753d1d', 'type': 'tool_call'}], usage_metadata={'input_tokens': 196, 'output_tokens': 5, 'total_tokens': 201, 'input_token_details': {'cache_read': 0}}),\n",
       "  ToolMessage(content='256.85418505563325', name='multiply', id='99766f28-393c-42dc-85ef-d976d89098f4', tool_call_id='6085f69b-780a-4ad6-9366-648cc3753d1d'),\n",
       "  AIMessage(content='(40+3.69)/0.7584*sqrt(99/4.98) = 256.85418505563325', additional_kwargs={}, response_metadata={'prompt_feedback': {'block_reason': 0, 'safety_ratings': []}, 'finish_reason': 'STOP', 'model_name': 'gemini-2.0-flash', 'safety_ratings': []}, id='run--0ff35f44-a623-4e9b-8450-438f6600a3b0-0', usage_metadata={'input_tokens': 204, 'output_tokens': 47, 'total_tokens': 251, 'input_token_details': {'cache_read': 0}}),\n",
       "  HumanMessage(content='Based on the previous thought process of a calculator agent, extract the intermediate steps and the final result.', additional_kwargs={}, response_metadata={}, id='a93d0c65-856f-419c-a90d-5bb02e48157b')],\n",
       " 'result': StructuredResult(steps=[StructuredStep(a=40.0, b=3.69, operation='+', result=43.69), StructuredStep(a=99.0, b=4.98, operation='/', result=19.879518072289155), StructuredStep(a=19.879518072289155, b=None, operation='sqrt', result=4.4586453180634535), StructuredStep(a=43.69, b=0.7584, operation='/', result=57.608122362869196), StructuredStep(a=57.608122362869196, b=4.4586453180634535, operation='*', result=256.85418505563325)], result=256.85418505563325)}"
      ]
     },
     "execution_count": 12,
     "metadata": {},
     "output_type": "execute_result"
    }
   ],
   "source": [
    "response"
   ]
  },
  {
   "cell_type": "code",
   "execution_count": 13,
   "id": "a2b80001",
   "metadata": {},
   "outputs": [
    {
     "name": "stdout",
     "output_type": "stream",
     "text": [
      "Step 1: 40.0 + 3.69 = 43.69\n",
      "Step 2: 99.0 / 4.98 = 19.879518072289155\n",
      "Step 3: sqrt(19.879518072289155) = 4.4586453180634535\n",
      "Step 4: 43.69 / 0.7584 = 57.608122362869196\n",
      "Step 5: 57.608122362869196 * 4.4586453180634535 = 256.85418505563325\n",
      "= 256.85418505563325\n"
     ]
    }
   ],
   "source": [
    "for i, step in enumerate(response[\"result\"].steps):\n",
    "    if step.operation == \"sqrt\":\n",
    "        print(f\"Step {i+1}: sqrt({step.a}) = {step.result}\")\n",
    "    else:\n",
    "        print(f\"Step {i+1}: {step.a} {step.operation} {step.b} = {step.result}\")\n",
    "\n",
    "print(\"=\", response[\"result\"].result)"
   ]
  }
 ],
 "metadata": {
  "kernelspec": {
   "display_name": ".venv",
   "language": "python",
   "name": "python3"
  },
  "language_info": {
   "codemirror_mode": {
    "name": "ipython",
    "version": 3
   },
   "file_extension": ".py",
   "mimetype": "text/x-python",
   "name": "python",
   "nbconvert_exporter": "python",
   "pygments_lexer": "ipython3",
   "version": "3.13.5"
  }
 },
 "nbformat": 4,
 "nbformat_minor": 5
}
