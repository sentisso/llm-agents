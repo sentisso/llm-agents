{
 "cells": [
  {
   "metadata": {
    "ExecuteTime": {
     "end_time": "2025-06-23T16:34:53.157687Z",
     "start_time": "2025-06-23T16:34:52.685956Z"
    }
   },
   "cell_type": "code",
   "source": [
    "import os\n",
    "from langchain.chat_models import init_chat_model\n",
    "from dotenv import load_dotenv\n",
    "from typing import Annotated\n",
    "\n",
    "from langchain_core.runnables import RunnableConfig\n",
    "from langchain_core.tools import BaseTool, BaseToolkit, tool\n",
    "from langgraph.checkpoint.postgres import PostgresSaver\n",
    "from langgraph.prebuilt import tools_condition, ToolNode\n",
    "from pydantic import BaseModel\n",
    "from typing_extensions import TypedDict\n",
    "from langgraph.graph import StateGraph, START, END\n",
    "from IPython.display import Image, display\n",
    "from langgraph.graph.message import MessagesState, add_messages\n",
    "\n",
    "load_dotenv()"
   ],
   "id": "996dd35979280bcc",
   "outputs": [
    {
     "data": {
      "text/plain": [
       "True"
      ]
     },
     "execution_count": 1,
     "metadata": {},
     "output_type": "execute_result"
    }
   ],
   "execution_count": 1
  },
  {
   "metadata": {},
   "cell_type": "markdown",
   "source": "# Graph definition",
   "id": "79c37c1aee0f06ee"
  },
  {
   "metadata": {
    "ExecuteTime": {
     "end_time": "2025-06-23T16:34:53.733692Z",
     "start_time": "2025-06-23T16:34:53.427036Z"
    }
   },
   "cell_type": "code",
   "source": "llm = init_chat_model(\"google_genai:gemini-2.0-flash\")",
   "id": "11cb976e963165d1",
   "outputs": [],
   "execution_count": 2
  },
  {
   "metadata": {
    "ExecuteTime": {
     "end_time": "2025-06-23T16:34:53.758583Z",
     "start_time": "2025-06-23T16:34:53.743579Z"
    }
   },
   "cell_type": "code",
   "source": [
    "class Configuration(TypedDict):\n",
    "    \"\"\"Configurable parameters for the agent.\n",
    "\n",
    "    Set these when creating assistants OR when invoking the graph.\n",
    "    See: https://langchain-ai.github.io/langgraph/cloud/how-tos/configuration_cloud/\n",
    "    \"\"\"\n",
    "    my_configurable_param: str\n",
    "\n",
    "\n",
    "class State(MessagesState):\n",
    "    \"\"\"Input state for the agent.\n",
    "\n",
    "    Defines the initial structure of incoming data.\n",
    "    See: https://langchain-ai.github.io/langgraph/concepts/low_level/#state\n",
    "    \"\"\"\n",
    "    # Messages have the type \"list\". The `add_messages` function\n",
    "    # in the annotation defines how this state key should be updated\n",
    "    # (in this case, it appends messages to the list, rather than overwriting them)\n",
    "    messages: Annotated[list, add_messages]\n",
    "\n",
    "\n",
    "def chatbot(state: State, config: RunnableConfig):\n",
    "    ai_message = llm.invoke(state[\"messages\"])\n",
    "    # appends to messages\n",
    "    return {\"messages\": [ai_message]}\n",
    "\n",
    "\n",
    "class CalculatorToolkit(BaseToolkit):\n",
    "    def __init__(self):\n",
    "        super().__init__()\n",
    "\n",
    "    def get_tools(self) -> list[BaseTool]:\n",
    "        return [self.multiply, self.divide, self.add, self.subtract]\n",
    "\n",
    "    @staticmethod\n",
    "    @tool\n",
    "    def multiply(a: float, b: float) -> float:\n",
    "        \"\"\"Multiply two numbers.\"\"\"\n",
    "        print('running multiply tool:', a, b)\n",
    "        return a * b\n",
    "\n",
    "    @staticmethod\n",
    "    @tool\n",
    "    def divide(a: float, b: float) -> float:\n",
    "        \"\"\"Divide two numbers.\"\"\"\n",
    "        print('running divide tool:', a, b)\n",
    "        return a / b\n",
    "\n",
    "    @staticmethod\n",
    "    @tool\n",
    "    def add(a: float, b: float) -> float:\n",
    "        \"\"\"Add two numbers.\"\"\"\n",
    "        print('running add tool:', a, b)\n",
    "        return a + b\n",
    "\n",
    "    @staticmethod\n",
    "    @tool\n",
    "    def subtract(a: float, b: float) -> float:\n",
    "        \"\"\"Subtract two numbers.\"\"\"\n",
    "        print('running subtract tool:', a, b)\n",
    "        return a - b"
   ],
   "id": "d73e2cfcd39fd3e4",
   "outputs": [],
   "execution_count": 3
  },
  {
   "metadata": {
    "ExecuteTime": {
     "end_time": "2025-06-23T16:35:13.912151Z",
     "start_time": "2025-06-23T16:35:13.885539Z"
    }
   },
   "cell_type": "code",
   "source": [
    "from psycopg.rows import dict_row\n",
    "from psycopg import Connection\n",
    "\n",
    "calculator_toolkit = CalculatorToolkit()\n",
    "\n",
    "llm = llm.bind_tools(calculator_toolkit.get_tools())\n",
    "\n",
    "graph_builder = (\n",
    "    StateGraph(State, config_schema=Configuration)\n",
    "    .add_node(\"llm\", chatbot)\n",
    "    .add_node(\"calculator\", ToolNode(calculator_toolkit.get_tools()))\n",
    "    .add_conditional_edges(\n",
    "        \"llm\", tools_condition,\n",
    "        # We can specify which specific nodes to route to next\n",
    "        {\"tools\": \"calculator\", END: END}\n",
    "    )\n",
    "    # Any time a tool is called, we return to the chatbot to decide the next step\n",
    "    .add_edge(\"calculator\", \"llm\")\n",
    "    .add_edge(START, \"llm\")\n",
    "    .add_edge(\"llm\", END)\n",
    ")\n",
    "\n",
    "conn = Connection.connect(\n",
    "    os.environ[\"DB_URI\"], autocommit=True, prepare_threshold=0, row_factory=dict_row\n",
    ")\n",
    "memory = PostgresSaver(conn)\n",
    "memory = None\n",
    "\n",
    "# Before running the graph, we'll need to compile it.\n",
    "# We can do so by calling compile() on the graph builder. This creates a CompiledGraph we can invoke on our state.\n",
    "graph = graph_builder.compile(checkpointer=memory)"
   ],
   "id": "65832cb448a88bf3",
   "outputs": [],
   "execution_count": 7
  },
  {
   "metadata": {
    "ExecuteTime": {
     "end_time": "2025-06-23T16:35:14.446552Z",
     "start_time": "2025-06-23T16:35:14.357527Z"
    }
   },
   "cell_type": "code",
   "source": [
    "# Visualize the graph\n",
    "graph"
   ],
   "id": "ac46a175cfb72766",
   "outputs": [
    {
     "data": {
      "text/plain": [
       "<langgraph.graph.state.CompiledStateGraph object at 0x7f122ff24050>"
      ],
      "image/png": "[encoded data removed]"
     },
     "execution_count": 8,
     "metadata": {},
     "output_type": "execute_result"
    }
   ],
   "execution_count": 8
  },
  {
   "metadata": {},
   "cell_type": "markdown",
   "source": "# Invoke",
   "id": "a8045607de152d29"
  },
  {
   "metadata": {
    "ExecuteTime": {
     "end_time": "2025-06-23T16:35:50.575936Z",
     "start_time": "2025-06-23T16:35:38.115132Z"
    }
   },
   "cell_type": "code",
   "source": [
    "from langchain_core.messages import HumanMessage, SystemMessage\n",
    "\n",
    "config = RunnableConfig(\n",
    "    configurable={'my_configurable_param': 'pufkova mama', \"thread_id\": '12'}\n",
    ")\n",
    "\n",
    "response = graph.invoke(\n",
    "    {\"messages\": [\n",
    "        SystemMessage(\"You are a math calculator assistant. If you encounter errors, for example when not being able to perform calculations in one step, try to think about the correct order of operations and make use of interim results.\"),\n",
    "\n",
    "\n",
    "        HumanMessage(\"What is 40+3/22*2.2-5?\")\n",
    "    ]},\n",
    "    config=config\n",
    ")\n",
    "for message in response[\"messages\"]:\n",
    "    message.pretty_print()"
   ],
   "id": "fbc121e30a2defb3",
   "outputs": [
    {
     "name": "stdout",
     "output_type": "stream",
     "text": [
      "running divide tool: 3.0 22.0\n",
      "running multiply tool: 0.13636363636363635 2.2\n",
      "running add tool: 40.0 0.3\n",
      "running subtract tool: 40.3 5.0\n",
      "================================\u001B[1m System Message \u001B[0m================================\n",
      "\n",
      "You are a math calculator assistant. If you encounter errors, for example when not being able to perform calculations in one step, try to think about the correct order of operations and make use of interim results.\n",
      "================================\u001B[1m Human Message \u001B[0m=================================\n",
      "\n",
      "What is 40+3/22*2.2-5?\n",
      "==================================\u001B[1m Ai Message \u001B[0m==================================\n",
      "Tool Calls:\n",
      "  add (5922f9d7-64a5-4b5f-875e-93a5748931b4)\n",
      " Call ID: 5922f9d7-64a5-4b5f-875e-93a5748931b4\n",
      "  Args:\n",
      "    b: {'b': 5.0, 'a': {'b': 2.2, 'a': {'b': 22.0, 'a': 3.0}}}\n",
      "    a: 40.0\n",
      "=================================\u001B[1m Tool Message \u001B[0m=================================\n",
      "Name: add\n",
      "\n",
      "Error: 1 validation error for add\n",
      "b\n",
      "  Input should be a valid number [type=float_type, input_value={'b': 5.0, 'a': {'b': 2.2... {'b': 22.0, 'a': 3.0}}}, input_type=dict]\n",
      "    For further information visit https://errors.pydantic.dev/2.11/v/float_type\n",
      " Please fix your mistakes.\n",
      "==================================\u001B[1m Ai Message \u001B[0m==================================\n",
      "\n",
      "I need to calculate 40+3/22*2.2-5. I should follow the order of operations (PEMDAS/BODMAS). First, I need to perform the division and multiplication, and then the addition and subtraction.\n",
      "\n",
      "First, let's calculate 3/22:\n",
      "Tool Calls:\n",
      "  divide (97f63b46-4c6e-42de-9e75-bf45b6ce6280)\n",
      " Call ID: 97f63b46-4c6e-42de-9e75-bf45b6ce6280\n",
      "  Args:\n",
      "    b: 22.0\n",
      "    a: 3.0\n",
      "=================================\u001B[1m Tool Message \u001B[0m=================================\n",
      "Name: divide\n",
      "\n",
      "0.13636363636363635\n",
      "==================================\u001B[1m Ai Message \u001B[0m==================================\n",
      "Tool Calls:\n",
      "  multiply (7148099e-e95c-413c-b95a-9d742c61444d)\n",
      " Call ID: 7148099e-e95c-413c-b95a-9d742c61444d\n",
      "  Args:\n",
      "    b: 2.2\n",
      "    a: 0.13636363636363635\n",
      "=================================\u001B[1m Tool Message \u001B[0m=================================\n",
      "Name: multiply\n",
      "\n",
      "0.3\n",
      "==================================\u001B[1m Ai Message \u001B[0m==================================\n",
      "Tool Calls:\n",
      "  add (45fcc21f-b9b4-48b4-9c6e-d4e4c2034944)\n",
      " Call ID: 45fcc21f-b9b4-48b4-9c6e-d4e4c2034944\n",
      "  Args:\n",
      "    b: 0.3\n",
      "    a: 40.0\n",
      "=================================\u001B[1m Tool Message \u001B[0m=================================\n",
      "Name: add\n",
      "\n",
      "40.3\n",
      "==================================\u001B[1m Ai Message \u001B[0m==================================\n",
      "Tool Calls:\n",
      "  subtract (bd1420fc-7bbd-4c21-b837-3adf09671198)\n",
      " Call ID: bd1420fc-7bbd-4c21-b837-3adf09671198\n",
      "  Args:\n",
      "    b: 5.0\n",
      "    a: 40.3\n",
      "=================================\u001B[1m Tool Message \u001B[0m=================================\n",
      "Name: subtract\n",
      "\n",
      "35.3\n",
      "==================================\u001B[1m Ai Message \u001B[0m==================================\n",
      "\n",
      "40+3/22*2.2-5 is 35.3.\n"
     ]
    }
   ],
   "execution_count": 10
  },
  {
   "metadata": {},
   "cell_type": "code",
   "source": [
    "response = graph.invoke(\n",
    "    {\"messages\": [HumanMessage(\"Awesome, that looks great!\")]},\n",
    "    config=config\n",
    ")\n",
    "for message in response[\"messages\"]:\n",
    "    message.pretty_print()"
   ],
   "id": "a750167bc2fba363",
   "outputs": [],
   "execution_count": null
  }
 ],
 "metadata": {
  "kernelspec": {
   "display_name": "Python 3",
   "language": "python",
   "name": "python3"
  },
  "language_info": {
   "codemirror_mode": {
    "name": "ipython",
    "version": 2
   },
   "file_extension": ".py",
   "mimetype": "text/x-python",
   "name": "python",
   "nbconvert_exporter": "python",
   "pygments_lexer": "ipython2",
   "version": "2.7.6"
  }
 },
 "nbformat": 4,
 "nbformat_minor": 5
}
