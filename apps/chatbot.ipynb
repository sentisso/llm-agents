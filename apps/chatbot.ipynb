{
 "cells": [
  {
   "cell_type": "code",
   "execution_count": 1,
   "id": "c984db33",
   "metadata": {},
   "outputs": [
    {
     "data": {
      "text/plain": [
       "True"
      ]
     },
     "execution_count": 1,
     "metadata": {},
     "output_type": "execute_result"
    }
   ],
   "source": [
    "import os\n",
    "from langchain.chat_models import init_chat_model\n",
    "from dotenv import load_dotenv\n",
    "import uuid\n",
    "from typing import Annotated\n",
    "\n",
    "from langgraph.graph import StateGraph, START, END\n",
    "from langgraph.checkpoint.memory import InMemorySaver\n",
    "from langgraph.graph.message import MessagesState, add_messages\n",
    "from langchain_core.messages import HumanMessage, SystemMessage, AIMessage\n",
    "import time\n",
    "\n",
    "load_dotenv()\n"
   ]
  },
  {
   "cell_type": "markdown",
   "id": "5de4e633",
   "metadata": {},
   "source": [
    "## Jednoduchy chatbot"
   ]
  },
  {
   "cell_type": "markdown",
   "id": "a55cf58c",
   "metadata": {},
   "source": [
    "### 1. Definice stavu agenta"
   ]
  },
  {
   "cell_type": "code",
   "execution_count": 2,
   "id": "038b7b08",
   "metadata": {},
   "outputs": [],
   "source": [
    "class State(MessagesState):\n",
    "    # `add_messages` anotace automaticky prida zpravy do seznamu\n",
    "    messages: Annotated[list, add_messages]\n"
   ]
  },
  {
   "cell_type": "markdown",
   "id": "781a66c0",
   "metadata": {},
   "source": [
    "### 2. Definice vrcholů, hran a grafu"
   ]
  },
  {
   "cell_type": "code",
   "execution_count": null,
   "id": "e0ee5d10",
   "metadata": {},
   "outputs": [],
   "source": [
    "model = init_chat_model(\"google_genai:gemini-2.0-flash\")\n",
    "\n",
    "\n",
    "def invoke_llm_node(state: State):\n",
    "    # metode `invoke` se predava kompletni seznam zprav jako kontext\n",
    "    ai_message = model.invoke(state[\"messages\"])\n",
    "    ai_message.pretty_print()\n",
    "\n",
    "    return {\"messages\": [ai_message]}\n",
    "\n",
    "\n",
    "def prompt_user_node(_: State):\n",
    "    time.sleep(0.5)  # kvuli iffy renderingu\n",
    "\n",
    "    user_message = HumanMessage(input(\"You: \").strip())\n",
    "    user_message.pretty_print()\n",
    "\n",
    "    return {\"messages\": [user_message]}\n",
    "\n",
    "\n",
    "def should_continue_edge(state: State):\n",
    "    \"\"\"\n",
    "    Na zaklade posledni uzivatelovi zpravy rozhoduje, zda ma agent skoncit.\n",
    "    \"\"\"\n",
    "    last_message = state[\"messages\"][-1].content\n",
    "\n",
    "    if len(last_message) == 0 or last_message.lower() == \"exit\":\n",
    "        print(\"Exiting conversation...\")\n",
    "        return False\n",
    "    else:\n",
    "        return True\n",
    "    \n"
   ]
  },
  {
   "cell_type": "code",
   "execution_count": 7,
   "id": "4db2fc81",
   "metadata": {},
   "outputs": [
    {
     "data": {
      "image/png": "[encoded data removed]",
      "text/plain": [
       "<langgraph.graph.state.CompiledStateGraph object at 0x7f0ec40a02d0>"
      ]
     },
     "execution_count": 7,
     "metadata": {},
     "output_type": "execute_result"
    }
   ],
   "source": [
    "graph_builder = (\n",
    "    StateGraph(State)\n",
    "    .add_edge(START, \"user\")\n",
    "    .add_node(\"user\", prompt_user_node)\n",
    "    .add_conditional_edges(\"user\", should_continue_edge, {True: \"LLM\", False: END})\n",
    "    .add_node(\"LLM\", invoke_llm_node)\n",
    "    .add_edge(\"LLM\", \"user\")\n",
    ")\n",
    "\n",
    "# Kompilace grafu\n",
    "graph = graph_builder.compile()\n",
    "\n",
    "# Vizualizace\n",
    "graph\n"
   ]
  },
  {
   "cell_type": "markdown",
   "id": "4616434f",
   "metadata": {},
   "source": [
    "### 3. Spusteni agenta"
   ]
  },
  {
   "cell_type": "code",
   "execution_count": 8,
   "id": "39cec3f1",
   "metadata": {},
   "outputs": [
    {
     "name": "stdout",
     "output_type": "stream",
     "text": [
      "================================\u001b[1m Human Message \u001b[0m=================================\n",
      "\n",
      "heelo?\n",
      "==================================\u001b[1m Ai Message \u001b[0m==================================\n",
      "\n",
      "Hello! How can I help you today?\n",
      "================================\u001b[1m Human Message \u001b[0m=================================\n",
      "\n",
      "not sure, how are you?\n",
      "==================================\u001b[1m Ai Message \u001b[0m==================================\n",
      "\n",
      "As a large language model, I don't experience emotions or feelings like humans do. So, I don't have a \"how are you\" in the same way. However, I am functioning as intended and ready to assist you. What's on your mind? Is there anything I can help you with?\n",
      "================================\u001b[1m Human Message \u001b[0m=================================\n",
      "\n",
      "\n",
      "Exiting conversation...\n"
     ]
    }
   ],
   "source": [
    "response = graph.invoke(\n",
    "    {\"messages\": []}\n",
    ")"
   ]
  },
  {
   "cell_type": "markdown",
   "id": "4c5b4b11",
   "metadata": {},
   "source": [
    "## Rozsireni o tooly"
   ]
  },
  {
   "cell_type": "code",
   "execution_count": 9,
   "id": "aa9a92fd",
   "metadata": {},
   "outputs": [],
   "source": [
    "from langchain_core.tools import tool\n",
    "from psycopg.rows import dict_row\n",
    "from psycopg import Connection\n",
    "from langgraph.prebuilt import InjectedState\n",
    "from langchain_core.runnables import RunnableConfig\n",
    "\n",
    "connection = Connection.connect(os.environ[\"DB_URI\"], row_factory=dict_row)\n",
    "cursor = connection.cursor()\n",
    "\n",
    "\n",
    "class DBRepositoryToolKit:\n",
    "    def get_tools(self):\n",
    "        return [self.get_user_balance]\n",
    "\n",
    "    @staticmethod\n",
    "    @tool\n",
    "    def get_user_balance(config: RunnableConfig) -> float:\n",
    "        \"\"\"\n",
    "        Get up-to-date balance of the user's account.\n",
    "        \"\"\"\n",
    "        \n",
    "        user_id = config[\"configurable\"][\"user_id\"]\n",
    "\n",
    "        cursor.execute(\n",
    "            \"\"\"\n",
    "            SELECT SUM(amount)\n",
    "            FROM transactions WHERE user_id = %s\n",
    "            GROUP BY user_id\n",
    "            \"\"\",\n",
    "            (user_id,),\n",
    "        )\n",
    "        result = cursor.fetchone()\n",
    "\n",
    "        return result[\"sum\"]\n"
   ]
  },
  {
   "cell_type": "markdown",
   "id": "22f0ebd7",
   "metadata": {},
   "source": [
    "### Tool binding"
   ]
  },
  {
   "cell_type": "code",
   "execution_count": 10,
   "id": "2bc636b4",
   "metadata": {},
   "outputs": [],
   "source": [
    "database_toolkit = DBRepositoryToolKit()\n",
    "\n",
    "model = model.bind_tools(database_toolkit.get_tools())"
   ]
  },
  {
   "cell_type": "markdown",
   "id": "f07a1d05",
   "metadata": {},
   "source": [
    "### Rozsireni grafu agenta"
   ]
  },
  {
   "cell_type": "code",
   "execution_count": 11,
   "id": "4971bb26",
   "metadata": {},
   "outputs": [
    {
     "data": {
      "image/png": "[encoded data removed]",
      "text/plain": [
       "<langgraph.graph.state.CompiledStateGraph object at 0x7f0e76370050>"
      ]
     },
     "execution_count": 11,
     "metadata": {},
     "output_type": "execute_result"
    }
   ],
   "source": [
    "from langgraph.prebuilt import tools_condition, ToolNode\n",
    "\n",
    "graph_builder = (\n",
    "    StateGraph(State)\n",
    "    .add_edge(START, \"user\")\n",
    "    .add_node(\"user\", prompt_user_node)\n",
    "    .add_conditional_edges(\"user\", should_continue_edge, {True: \"LLM\", False: END})\n",
    "    .add_node(\"LLM\", invoke_llm_node)\n",
    "    .add_conditional_edges(\n",
    "        \"LLM\",\n",
    "        tools_condition,\n",
    "        {\"tools\": \"database\", END: \"user\"},\n",
    "    )\n",
    "    .add_node(\"database\", ToolNode(database_toolkit.get_tools()))\n",
    "    .add_edge(\"database\", \"LLM\")\n",
    ")\n",
    "\n",
    "# Kompilace grafu\n",
    "graph = graph_builder.compile()\n",
    "\n",
    "# Vizualizace\n",
    "graph\n"
   ]
  },
  {
   "cell_type": "markdown",
   "id": "5e086e71",
   "metadata": {},
   "source": [
    "### Spusteni agenta"
   ]
  },
  {
   "cell_type": "code",
   "execution_count": null,
   "id": "647e26f0",
   "metadata": {},
   "outputs": [],
   "source": [
    "# Staticka konfigurace (napr. user session)\n",
    "config = RunnableConfig(\n",
    "    configurable={\"user_id\": \"d8ebe7d8-e647-4d1a-b91e-3e7a3b6efd95\"}\n",
    ")\n",
    "\n",
    "response = graph.invoke(\n",
    "    {\n",
    "        \"messages\": [\n",
    "            SystemMessage(\n",
    "                \"You are a helpful customer support agent that helps customers with their account.\"\n",
    "            ),\n",
    "            AIMessage(\n",
    "                \"Hello, how can I help you today?\"\n",
    "            ),\n",
    "        ]\n",
    "    },\n",
    "    config=config,\n",
    ")\n"
   ]
  }
 ],
 "metadata": {
  "kernelspec": {
   "display_name": ".venv",
   "language": "python",
   "name": "python3"
  },
  "language_info": {
   "codemirror_mode": {
    "name": "ipython",
    "version": 3
   },
   "file_extension": ".py",
   "mimetype": "text/x-python",
   "name": "python",
   "nbconvert_exporter": "python",
   "pygments_lexer": "ipython3",
   "version": "3.13.5"
  }
 },
 "nbformat": 4,
 "nbformat_minor": 5
}
