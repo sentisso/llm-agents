{
 "cells": [
  {
   "cell_type": "code",
   "execution_count": 30,
   "id": "899cb16269c7b7f0",
   "metadata": {
    "ExecuteTime": {
     "end_time": "2025-06-30T09:21:38.177899Z",
     "start_time": "2025-06-30T09:21:34.954433Z"
    }
   },
   "outputs": [],
   "source": [
    "import bs4\n",
    "from langchain.chat_models import init_chat_model\n",
    "from dotenv import load_dotenv\n",
    "from typing import Annotated, List\n",
    "import os\n",
    "\n",
    "from langchain_core.documents import Document\n",
    "from langchain_core.messages import HumanMessage, SystemMessage\n",
    "from langchain_core.tools import BaseTool, BaseToolkit, tool\n",
    "from langchain_text_splitters import RecursiveCharacterTextSplitter\n",
    "from langgraph.checkpoint.postgres import PostgresSaver\n",
    "from langgraph.prebuilt import tools_condition, ToolNode\n",
    "from langgraph.graph import StateGraph, START, END\n",
    "from IPython.display import Image, display\n",
    "from langgraph.graph.message import MessagesState, add_messages\n",
    "\n",
    "\n",
    "load_dotenv()\n",
    "\n",
    "os.environ[\"LANGSMITH_PROJECT\"] = \"RAG\"\n",
    "\n",
    "mermaid_url = 'http://localhost:3000'"
   ]
  },
  {
   "cell_type": "markdown",
   "id": "b6a37ad8385b2722",
   "metadata": {},
   "source": [
    "### 1. Document loading"
   ]
  },
  {
   "cell_type": "code",
   "execution_count": 31,
   "id": "initial_id",
   "metadata": {
    "ExecuteTime": {
     "end_time": "2025-06-30T09:21:51.102327Z",
     "start_time": "2025-06-30T09:21:49.327285Z"
    },
    "collapsed": true
   },
   "outputs": [],
   "source": [
    "from langchain_community.document_loaders import WebBaseLoader\n",
    "\n",
    "urls = [\n",
    "    \"https://lilianweng.github.io/posts/2024-11-28-reward-hacking/\",\n",
    "    \"https://lilianweng.github.io/posts/2024-07-07-hallucination/\",\n",
    "    \"https://lilianweng.github.io/posts/2024-04-12-diffusion-video/\",\n",
    "]\n",
    "\n",
    "docs = [WebBaseLoader(url).load() for url in urls]\n"
   ]
  },
  {
   "cell_type": "markdown",
   "id": "800b94b7db073583",
   "metadata": {},
   "source": [
    "### 2. Splitting"
   ]
  },
  {
   "cell_type": "code",
   "execution_count": 32,
   "id": "4ca60dbf8ba69603",
   "metadata": {},
   "outputs": [],
   "source": [
    "docs_list = [item for sublist in docs for item in sublist]\n",
    "\n",
    "text_splitter = RecursiveCharacterTextSplitter.from_tiktoken_encoder(\n",
    "    chunk_size=100, chunk_overlap=50\n",
    ")\n",
    "doc_splits = text_splitter.split_documents(docs_list)"
   ]
  },
  {
   "cell_type": "code",
   "execution_count": 33,
   "id": "3f65548c",
   "metadata": {},
   "outputs": [
    {
     "data": {
      "text/plain": [
       "\"Reward Hacking in Reinforcement Learning | Lil'Log\\n\\n\\n\\n\\n\\n\\n\\n\\n\\n\\n\\n\\n\\n\\n\\n\\n\\n\\n\\n\\n\\n\\n\\n\\n\\n\\n\\n\\n\\n\\n\\n\\n\\n\\n\\n\\n\\n\\n\\n\\nLil'Log\\n\\n\\n\\n\\n\\n\\n\\n\\n\\n\\n\\n\\n\\n\\n\\n\\n\\n|\\n\\n\\n\\n\\n\\n\\nPosts\\n\\n\\n\\n\\nArchive\\n\\n\\n\\n\\nSearch\\n\\n\\n\\n\\nTags\\n\\n\\n\\n\\nFAQ\""
      ]
     },
     "execution_count": 33,
     "metadata": {},
     "output_type": "execute_result"
    }
   ],
   "source": [
    "doc_splits[0].page_content.strip()"
   ]
  },
  {
   "cell_type": "markdown",
   "id": "5cb9513a",
   "metadata": {},
   "source": [
    "### 4. Vector store + indexing"
   ]
  },
  {
   "cell_type": "code",
   "execution_count": 34,
   "id": "5857795a",
   "metadata": {},
   "outputs": [],
   "source": [
    "from langchain_core.vectorstores import InMemoryVectorStore\n",
    "from langchain_openai import OpenAIEmbeddings\n",
    "\n",
    "# zde se da pouzit milion dalsich vector stores, napr. PGVector\n",
    "vectorstore = InMemoryVectorStore.from_documents(\n",
    "    documents=doc_splits, embedding=OpenAIEmbeddings()\n",
    ")\n",
    "retriever = vectorstore.as_retriever()"
   ]
  },
  {
   "cell_type": "markdown",
   "id": "883417bd",
   "metadata": {},
   "source": [
    "### 5. Retriever as a tool\n",
    "Tool for retrieving information from the vector store."
   ]
  },
  {
   "cell_type": "code",
   "execution_count": 35,
   "id": "191c7464",
   "metadata": {},
   "outputs": [],
   "source": [
    "from langchain.tools.retriever import create_retriever_tool\n",
    "\n",
    "retriever_tool = create_retriever_tool(\n",
    "    retriever,\n",
    "    \"retrieve_blog_posts\",\n",
    "    \"Search and return information about Lilian Weng blog posts.\",\n",
    ")"
   ]
  },
  {
   "cell_type": "code",
   "execution_count": 36,
   "id": "f806755a",
   "metadata": {},
   "outputs": [
    {
     "data": {
      "text/plain": [
       "'Detecting Reward Hacking#\\n\\nIn-Context Reward Hacking#\\n\\n(Note: Some work defines reward tampering as a distinct category of misalignment behavior from reward hacking. But I consider reward hacking as a broader concept here.)\\nAt a high level, reward hacking can be categorized into two types: environment or goal misspecification, and reward tampering.\\n\\nWhy does Reward Hacking Exist?#'"
      ]
     },
     "execution_count": 36,
     "metadata": {},
     "output_type": "execute_result"
    }
   ],
   "source": [
    "retriever_tool.invoke({\"query\": \"types of reward hacking\"})"
   ]
  },
  {
   "cell_type": "markdown",
   "id": "835d5599",
   "metadata": {},
   "source": [
    "### 6. Chatbot definition"
   ]
  },
  {
   "cell_type": "code",
   "execution_count": 37,
   "id": "a8d20b07",
   "metadata": {},
   "outputs": [],
   "source": [
    "class State(MessagesState):\n",
    "    messages: Annotated[list, add_messages]\n"
   ]
  },
  {
   "cell_type": "code",
   "execution_count": 38,
   "id": "94a42af9",
   "metadata": {},
   "outputs": [],
   "source": [
    "model = init_chat_model(\"google_genai:gemini-2.0-flash\")\n",
    "\n",
    "\n",
    "def generate_query_or_respond(state: MessagesState):\n",
    "    \"\"\"Call the model to generate a response based on the current state. Given\n",
    "    the question, it will decide to retrieve using the retriever tool, or simply respond to the user.\n",
    "    \"\"\"\n",
    "    response = model.bind_tools([retriever_tool]).invoke(state[\"messages\"])\n",
    "\n",
    "    return {\"messages\": [response]}\n"
   ]
  },
  {
   "cell_type": "code",
   "execution_count": 39,
   "id": "0d00dd6a",
   "metadata": {},
   "outputs": [
    {
     "data": {
      "image/png": "[encoded data removed]",
      "text/plain": [
       "<IPython.core.display.Image object>"
      ]
     },
     "execution_count": 39,
     "metadata": {},
     "output_type": "execute_result"
    }
   ],
   "source": [
    "graph_builder = (\n",
    "    StateGraph(State)\n",
    "    # nodes\n",
    "    .add_node(\"generate_query_or_respond\", generate_query_or_respond)\n",
    "    .add_node(\"retrieve_blog_posts\", ToolNode([retriever_tool]))\n",
    "    # edges\n",
    "    .add_edge(START, \"generate_query_or_respond\")\n",
    "    .add_conditional_edges(\n",
    "        \"generate_query_or_respond\",\n",
    "        tools_condition,\n",
    "        {\n",
    "            \"tools\": \"retrieve_blog_posts\",\n",
    "            END: END,\n",
    "        },\n",
    "    )\n",
    "    .add_edge(\"retrieve_blog_posts\", \"generate_query_or_respond\")\n",
    "    .add_edge(\"generate_query_or_respond\", END)\n",
    ")\n",
    "\n",
    "# kompilace grafu\n",
    "graph = graph_builder.compile()\n",
    "\n",
    "# vizualizace\n",
    "Image(graph.get_graph().draw_mermaid_png(base_url=mermaid_url))\n"
   ]
  },
  {
   "cell_type": "markdown",
   "id": "269724c2",
   "metadata": {},
   "source": [
    "### 7. Invoke"
   ]
  },
  {
   "cell_type": "code",
   "execution_count": 40,
   "id": "7c53005a",
   "metadata": {},
   "outputs": [
    {
     "name": "stdout",
     "output_type": "stream",
     "text": [
      "================================\u001b[1m Human Message \u001b[0m=================================\n",
      "\n",
      "What is reward hacking?\n",
      "==================================\u001b[1m Ai Message \u001b[0m==================================\n",
      "Tool Calls:\n",
      "  retrieve_blog_posts (23e42d9d-3e45-44cb-821d-ffb834ea3bb1)\n",
      " Call ID: 23e42d9d-3e45-44cb-821d-ffb834ea3bb1\n",
      "  Args:\n",
      "    query: reward hacking\n",
      "=================================\u001b[1m Tool Message \u001b[0m=================================\n",
      "Name: retrieve_blog_posts\n",
      "\n",
      "Detecting Reward Hacking#\n",
      "\n",
      "Reward hacking occurs when a reinforcement learning (RL) agent exploits flaws or ambiguities in the reward function to achieve high rewards, without genuinely learning or completing the intended task. Reward hacking exists because RL environments are often imperfect, and it is fundamentally challenging to accurately specify a reward function.\n",
      "\n",
      "In-Context Reward Hacking#\n",
      "\n",
      "Let’s Define Reward Hacking#\n",
      "Reward shaping in RL is challenging. Reward hacking occurs when an RL agent exploits flaws or ambiguities in the reward function to obtain high rewards without genuinely learning the intended behaviors or completing the task as designed. In recent years, several related concepts have been proposed, all referring to some form of reward hacking:\n",
      "==================================\u001b[1m Ai Message \u001b[0m==================================\n",
      "\n",
      "Reward hacking occurs when a reinforcement learning (RL) agent exploits flaws or ambiguities in the reward function to achieve high rewards, without genuinely learning or completing the intended task. Reward hacking exists because RL environments are often imperfect, and it is fundamentally challenging to accurately specify a reward function.\n"
     ]
    }
   ],
   "source": [
    "response = graph.invoke({\"messages\": [HumanMessage(\"What is reward hacking?\")]})\n",
    "\n",
    "for message in response[\"messages\"]:\n",
    "    message.pretty_print()\n"
   ]
  },
  {
   "cell_type": "markdown",
   "id": "1c73a974",
   "metadata": {},
   "source": [
    "## Checkpointer"
   ]
  },
  {
   "cell_type": "code",
   "execution_count": 41,
   "id": "64debf2d",
   "metadata": {},
   "outputs": [],
   "source": [
    "from psycopg.rows import dict_row\n",
    "from psycopg import Connection\n",
    "\n",
    "\n",
    "conn = Connection.connect(\n",
    "    os.environ[\"DB_URI\"], autocommit=True, prepare_threshold=0, row_factory=dict_row\n",
    ")\n",
    "memory = PostgresSaver(conn)\n",
    "\n",
    "graph = graph_builder.compile(checkpointer=memory)"
   ]
  },
  {
   "cell_type": "code",
   "execution_count": 42,
   "id": "83aa5d4e",
   "metadata": {},
   "outputs": [
    {
     "name": "stdout",
     "output_type": "stream",
     "text": [
      "================================\u001b[1m Human Message \u001b[0m=================================\n",
      "\n",
      "What is reward hacking?\n",
      "==================================\u001b[1m Ai Message \u001b[0m==================================\n",
      "Tool Calls:\n",
      "  retrieve_blog_posts (b7cd7740-c8f9-498e-b41d-598b923fccf5)\n",
      " Call ID: b7cd7740-c8f9-498e-b41d-598b923fccf5\n",
      "  Args:\n",
      "    query: reward hacking\n",
      "=================================\u001b[1m Tool Message \u001b[0m=================================\n",
      "Name: retrieve_blog_posts\n",
      "\n",
      "Detecting Reward Hacking#\n",
      "\n",
      "Reward hacking occurs when a reinforcement learning (RL) agent exploits flaws or ambiguities in the reward function to achieve high rewards, without genuinely learning or completing the intended task. Reward hacking exists because RL environments are often imperfect, and it is fundamentally challenging to accurately specify a reward function.\n",
      "\n",
      "In-Context Reward Hacking#\n",
      "\n",
      "Let’s Define Reward Hacking#\n",
      "Reward shaping in RL is challenging. Reward hacking occurs when an RL agent exploits flaws or ambiguities in the reward function to obtain high rewards without genuinely learning the intended behaviors or completing the task as designed. In recent years, several related concepts have been proposed, all referring to some form of reward hacking:\n",
      "==================================\u001b[1m Ai Message \u001b[0m==================================\n",
      "\n",
      "Reward hacking occurs when a reinforcement learning (RL) agent exploits flaws or ambiguities in the reward function to achieve high rewards, without genuinely learning or completing the intended task. It exists because RL environments are often imperfect, and it is fundamentally challenging to accurately specify a reward function.\n"
     ]
    }
   ],
   "source": [
    "from langchain_core.runnables import RunnableConfig\n",
    "\n",
    "config = RunnableConfig(configurable={\"thread_id\": \"321\"})\n",
    "\n",
    "response = graph.invoke(\n",
    "    {\"messages\": [HumanMessage(\"What is reward hacking?\")]}, config=config\n",
    ")\n",
    "\n",
    "for message in response[\"messages\"]:\n",
    "    message.pretty_print()\n"
   ]
  },
  {
   "cell_type": "code",
   "execution_count": 43,
   "id": "b3bfd45e",
   "metadata": {},
   "outputs": [
    {
     "name": "stdout",
     "output_type": "stream",
     "text": [
      "================================\u001b[1m Human Message \u001b[0m=================================\n",
      "\n",
      "What is reward hacking?\n",
      "==================================\u001b[1m Ai Message \u001b[0m==================================\n",
      "Tool Calls:\n",
      "  retrieve_blog_posts (b7cd7740-c8f9-498e-b41d-598b923fccf5)\n",
      " Call ID: b7cd7740-c8f9-498e-b41d-598b923fccf5\n",
      "  Args:\n",
      "    query: reward hacking\n",
      "=================================\u001b[1m Tool Message \u001b[0m=================================\n",
      "Name: retrieve_blog_posts\n",
      "\n",
      "Detecting Reward Hacking#\n",
      "\n",
      "Reward hacking occurs when a reinforcement learning (RL) agent exploits flaws or ambiguities in the reward function to achieve high rewards, without genuinely learning or completing the intended task. Reward hacking exists because RL environments are often imperfect, and it is fundamentally challenging to accurately specify a reward function.\n",
      "\n",
      "In-Context Reward Hacking#\n",
      "\n",
      "Let’s Define Reward Hacking#\n",
      "Reward shaping in RL is challenging. Reward hacking occurs when an RL agent exploits flaws or ambiguities in the reward function to obtain high rewards without genuinely learning the intended behaviors or completing the task as designed. In recent years, several related concepts have been proposed, all referring to some form of reward hacking:\n",
      "==================================\u001b[1m Ai Message \u001b[0m==================================\n",
      "\n",
      "Reward hacking occurs when a reinforcement learning (RL) agent exploits flaws or ambiguities in the reward function to achieve high rewards, without genuinely learning or completing the intended task. It exists because RL environments are often imperfect, and it is fundamentally challenging to accurately specify a reward function.\n",
      "================================\u001b[1m Human Message \u001b[0m=================================\n",
      "\n",
      "Simplify please?\n",
      "==================================\u001b[1m Ai Message \u001b[0m==================================\n",
      "\n",
      "Reward hacking is when an AI finds a loophole in its instructions to get a high score, even if it's not actually doing what it's supposed to do. It's like cheating because the AI exploits the system instead of learning the real task.\n"
     ]
    }
   ],
   "source": [
    "response = graph.invoke(\n",
    "    {\"messages\": [HumanMessage(\"Simplify please?\")]}, config=config\n",
    ")\n",
    "\n",
    "for message in response[\"messages\"]:\n",
    "    message.pretty_print()"
   ]
  }
 ],
 "metadata": {
  "kernelspec": {
   "display_name": ".venv",
   "language": "python",
   "name": "python3"
  },
  "language_info": {
   "codemirror_mode": {
    "name": "ipython",
    "version": 3
   },
   "file_extension": ".py",
   "mimetype": "text/x-python",
   "name": "python",
   "nbconvert_exporter": "python",
   "pygments_lexer": "ipython3",
   "version": "3.13.5"
  }
 },
 "nbformat": 4,
 "nbformat_minor": 5
}
